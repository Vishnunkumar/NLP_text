{
 "cells": [
  {
   "cell_type": "code",
   "execution_count": 67,
   "metadata": {},
   "outputs": [
    {
     "name": "stderr",
     "output_type": "stream",
     "text": [
      "wandb: WARNING W&B installed but not logged in.  Run `wandb login` or set the WANDB_API_KEY env variable.\n"
     ]
    }
   ],
   "source": [
    "import pandas as pd\n",
    "import nltk\n",
    "import torch\n",
    "import tensorflow as tf\n",
    "import numpy as np\n",
    "from sklearn.metrics import f1_score\n",
    "from sklearn.model_selection import train_test_split\n",
    "from sklearn import utils\n",
    "import simpletransformers\n",
    "import seaborn as sns\n",
    "import wandb\n",
    "from simpletransformers.classification import ClassificationModel"
   ]
  },
  {
   "cell_type": "code",
   "execution_count": 2,
   "metadata": {},
   "outputs": [],
   "source": [
    "df_train = pd.read_csv('train.csv')\n",
    "df_test = pd.read_csv('test.csv')"
   ]
  },
  {
   "cell_type": "markdown",
   "metadata": {},
   "source": [
    "## EDA"
   ]
  },
  {
   "cell_type": "code",
   "execution_count": null,
   "metadata": {},
   "outputs": [],
   "source": [
    "df_train.head(2)"
   ]
  },
  {
   "cell_type": "code",
   "execution_count": null,
   "metadata": {},
   "outputs": [],
   "source": [
    "df_train.isnull().sum()"
   ]
  },
  {
   "cell_type": "code",
   "execution_count": null,
   "metadata": {},
   "outputs": [],
   "source": [
    "df_train.dtypes"
   ]
  },
  {
   "cell_type": "code",
   "execution_count": null,
   "metadata": {},
   "outputs": [],
   "source": [
    "df_train['target'].value_counts()"
   ]
  },
  {
   "cell_type": "code",
   "execution_count": null,
   "metadata": {},
   "outputs": [],
   "source": [
    "df_train.drop(['id', 'keyword', 'location'], axis=1, inplace=True)\n",
    "df_test.drop(['id', 'keyword', 'location'], axis=1, inplace=True)"
   ]
  },
  {
   "cell_type": "code",
   "execution_count": null,
   "metadata": {},
   "outputs": [],
   "source": [
    "t_len = list(df_train['text'].apply(lambda x: len(x)))\n",
    "print(max(t_len), min(t_len))"
   ]
  },
  {
   "cell_type": "code",
   "execution_count": null,
   "metadata": {},
   "outputs": [],
   "source": [
    "sns.countplot(df_train['target'])"
   ]
  },
  {
   "cell_type": "markdown",
   "metadata": {},
   "source": [
    "## BERT"
   ]
  },
  {
   "cell_type": "code",
   "execution_count": null,
   "metadata": {},
   "outputs": [],
   "source": [
    "model_args = ClassificationArgs(num_train_epochs=1, overwrite_output_dir=True, manual_seed=42)\n",
    "model = ClassificationModel(model_type='distilbert', model_name='distilbert-base-cased', \n",
    "                            use_cuda=False, num_labels=2, args=model_args)"
   ]
  },
  {
   "cell_type": "code",
   "execution_count": null,
   "metadata": {},
   "outputs": [],
   "source": [
    "%%time\n",
    "model.train_model(train_df)"
   ]
  },
  {
   "cell_type": "code",
   "execution_count": null,
   "metadata": {},
   "outputs": [],
   "source": []
  },
  {
   "cell_type": "markdown",
   "metadata": {},
   "source": [
    "## Sequence model"
   ]
  },
  {
   "cell_type": "code",
   "execution_count": 3,
   "metadata": {},
   "outputs": [],
   "source": [
    "labels = df_train['target']"
   ]
  },
  {
   "cell_type": "code",
   "execution_count": 59,
   "metadata": {},
   "outputs": [
    {
     "data": {
      "text/plain": [
       "157"
      ]
     },
     "execution_count": 59,
     "metadata": {},
     "output_type": "execute_result"
    }
   ],
   "source": [
    "leng = [len(x) for x in df_train['text']]\n",
    "max(leng)"
   ]
  },
  {
   "cell_type": "code",
   "execution_count": 18,
   "metadata": {},
   "outputs": [],
   "source": [
    "def create_tokenizer(df):\n",
    "    tokenizer = tf.keras.preprocessing.text.Tokenizer(num_words=100000, \n",
    "                                                      filters='!\"#$%&()*+,-./:;<=>?@[\\\\]^_`{|}~\\t\\n', \n",
    "                                                      lower=True,\n",
    "                                                      split=' ', \n",
    "                                                      char_level=False, \n",
    "                                                      oov_token=None, \n",
    "                                                      document_count=0)\n",
    "\n",
    "    tokenizer.fit_on_texts(df['text'])\n",
    "    return tokenizer\n",
    "\n",
    "def create_tokens(tokenizer, df):\n",
    "    \n",
    "    seq = np.array(tokenizer.texts_to_sequences(df['text']))\n",
    "    vector = tf.keras.preprocessing.sequence.pad_sequences(seq, padding='post')\n",
    "    vector = np.reshape(vector, (vector.shape[0], 1, vector.shape[1])).astype(float)\n",
    "    \n",
    "    return vector"
   ]
  },
  {
   "cell_type": "code",
   "execution_count": 19,
   "metadata": {},
   "outputs": [],
   "source": [
    "tokenizer = create_tokenizer(df_train)\n",
    "train_vector = create_tokens(tokenizer, df_train)\n",
    "test_vector = create_tokens(tokenizer, df_test)\n",
    "train_y = np.array(labels).astype(int)"
   ]
  },
  {
   "cell_type": "code",
   "execution_count": 20,
   "metadata": {},
   "outputs": [],
   "source": [
    "test_vector = np.resize(test_vector,(test_vector.shape[0], 1, train_vector.shape[2]))"
   ]
  },
  {
   "cell_type": "code",
   "execution_count": 22,
   "metadata": {},
   "outputs": [],
   "source": [
    "class_weights = utils.compute_class_weight('balanced', np.unique(train_y), train_y)\n",
    "class_weights = dict(enumerate(class_weights))"
   ]
  },
  {
   "cell_type": "code",
   "execution_count": 44,
   "metadata": {},
   "outputs": [],
   "source": [
    "tr_x, va_x, tr_y, va_y = train_test_split(train_vector, train_y, stratify=train_y, random_state=342)"
   ]
  },
  {
   "cell_type": "code",
   "execution_count": 24,
   "metadata": {},
   "outputs": [],
   "source": [
    "model = tf.keras.models.Sequential([\n",
    "    tf.keras.layers.LSTM(128, input_shape = tr_x.shape[1:]),\n",
    "    tf.keras.layers.Dense(256, activation='relu'),\n",
    "    tf.keras.layers.Flatten(),\n",
    "    tf.keras.layers.Dense(1, kernel_regularizer=tf.keras.regularizers.l2(0.00001))\n",
    "])"
   ]
  },
  {
   "cell_type": "code",
   "execution_count": 25,
   "metadata": {},
   "outputs": [],
   "source": [
    "model.compile(loss=tf.keras.losses.BinaryCrossentropy(from_logits=True),\n",
    "              optimizer=tf.keras.optimizers.RMSprop(1e-4, momentum=0.8),\n",
    "              metrics=['accuracy'])"
   ]
  },
  {
   "cell_type": "code",
   "execution_count": 26,
   "metadata": {},
   "outputs": [
    {
     "name": "stdout",
     "output_type": "stream",
     "text": [
      "Epoch 1/100\n",
      "179/179 [==============================] - 1s 6ms/step - loss: 0.6944 - accuracy: 0.5756 - val_loss: 0.6983 - val_accuracy: 0.5961\n",
      "Epoch 2/100\n",
      "179/179 [==============================] - 1s 3ms/step - loss: 0.6765 - accuracy: 0.6097 - val_loss: 0.6920 - val_accuracy: 0.6108\n",
      "Epoch 3/100\n",
      "179/179 [==============================] - 1s 3ms/step - loss: 0.6698 - accuracy: 0.6346 - val_loss: 0.6902 - val_accuracy: 0.6187\n",
      "Epoch 4/100\n",
      "179/179 [==============================] - 1s 3ms/step - loss: 0.6647 - accuracy: 0.6476 - val_loss: 0.6915 - val_accuracy: 0.6182\n",
      "Epoch 5/100\n",
      "179/179 [==============================] - 1s 3ms/step - loss: 0.6604 - accuracy: 0.6604 - val_loss: 0.6899 - val_accuracy: 0.6255\n",
      "Epoch 6/100\n",
      "179/179 [==============================] - 1s 3ms/step - loss: 0.6571 - accuracy: 0.6702 - val_loss: 0.6889 - val_accuracy: 0.6224\n",
      "Epoch 7/100\n",
      "179/179 [==============================] - 1s 3ms/step - loss: 0.6539 - accuracy: 0.6775 - val_loss: 0.6917 - val_accuracy: 0.6213\n",
      "Epoch 8/100\n",
      "179/179 [==============================] - 1s 3ms/step - loss: 0.6507 - accuracy: 0.6814 - val_loss: 0.6902 - val_accuracy: 0.6282\n",
      "Epoch 9/100\n",
      "179/179 [==============================] - 1s 3ms/step - loss: 0.6477 - accuracy: 0.6929 - val_loss: 0.6933 - val_accuracy: 0.6171\n",
      "Epoch 10/100\n",
      "179/179 [==============================] - 1s 3ms/step - loss: 0.6455 - accuracy: 0.6984 - val_loss: 0.6897 - val_accuracy: 0.6245\n",
      "Epoch 11/100\n",
      "179/179 [==============================] - 1s 3ms/step - loss: 0.6421 - accuracy: 0.7024 - val_loss: 0.6938 - val_accuracy: 0.6245\n",
      "Epoch 12/100\n",
      "179/179 [==============================] - 1s 3ms/step - loss: 0.6397 - accuracy: 0.7075 - val_loss: 0.6917 - val_accuracy: 0.6266\n",
      "Epoch 13/100\n",
      "179/179 [==============================] - 1s 3ms/step - loss: 0.6378 - accuracy: 0.7162 - val_loss: 0.6918 - val_accuracy: 0.6250\n",
      "Epoch 14/100\n",
      "179/179 [==============================] - 1s 3ms/step - loss: 0.6356 - accuracy: 0.7203 - val_loss: 0.6914 - val_accuracy: 0.6261\n",
      "Epoch 15/100\n",
      "179/179 [==============================] - 1s 3ms/step - loss: 0.6342 - accuracy: 0.7217 - val_loss: 0.6892 - val_accuracy: 0.6271\n",
      "Epoch 16/100\n",
      "179/179 [==============================] - 1s 3ms/step - loss: 0.6320 - accuracy: 0.7285 - val_loss: 0.6919 - val_accuracy: 0.6292\n",
      "Epoch 17/100\n",
      "179/179 [==============================] - 1s 3ms/step - loss: 0.6295 - accuracy: 0.7341 - val_loss: 0.6920 - val_accuracy: 0.6292\n",
      "Epoch 18/100\n",
      "179/179 [==============================] - 1s 3ms/step - loss: 0.6278 - accuracy: 0.7359 - val_loss: 0.6943 - val_accuracy: 0.6250\n",
      "Epoch 19/100\n",
      "179/179 [==============================] - 1s 3ms/step - loss: 0.6268 - accuracy: 0.7390 - val_loss: 0.6946 - val_accuracy: 0.6282\n",
      "Epoch 20/100\n",
      "179/179 [==============================] - 1s 3ms/step - loss: 0.6246 - accuracy: 0.7476 - val_loss: 0.6931 - val_accuracy: 0.6276\n",
      "Epoch 21/100\n",
      "179/179 [==============================] - 1s 3ms/step - loss: 0.6224 - accuracy: 0.7493 - val_loss: 0.6942 - val_accuracy: 0.6229\n",
      "Epoch 22/100\n",
      "179/179 [==============================] - 1s 3ms/step - loss: 0.6207 - accuracy: 0.7571 - val_loss: 0.6975 - val_accuracy: 0.6176\n",
      "Epoch 23/100\n",
      "179/179 [==============================] - 1s 3ms/step - loss: 0.6215 - accuracy: 0.7520 - val_loss: 0.6977 - val_accuracy: 0.6192\n",
      "Epoch 24/100\n",
      "179/179 [==============================] - 1s 3ms/step - loss: 0.6196 - accuracy: 0.7599 - val_loss: 0.6955 - val_accuracy: 0.6282\n",
      "Epoch 25/100\n",
      "179/179 [==============================] - 1s 3ms/step - loss: 0.6170 - accuracy: 0.7637 - val_loss: 0.6994 - val_accuracy: 0.6197\n",
      "Epoch 26/100\n",
      "179/179 [==============================] - 1s 3ms/step - loss: 0.6163 - accuracy: 0.7660 - val_loss: 0.7021 - val_accuracy: 0.6124\n",
      "Epoch 27/100\n",
      "179/179 [==============================] - 1s 3ms/step - loss: 0.6140 - accuracy: 0.7716 - val_loss: 0.6965 - val_accuracy: 0.6255\n",
      "Epoch 28/100\n",
      "179/179 [==============================] - 1s 3ms/step - loss: 0.6133 - accuracy: 0.7719 - val_loss: 0.6981 - val_accuracy: 0.6192\n",
      "Epoch 29/100\n",
      "179/179 [==============================] - 1s 3ms/step - loss: 0.6112 - accuracy: 0.7740 - val_loss: 0.7020 - val_accuracy: 0.6124\n",
      "Epoch 30/100\n",
      "179/179 [==============================] - 1s 3ms/step - loss: 0.6103 - accuracy: 0.7803 - val_loss: 0.6992 - val_accuracy: 0.6192\n",
      "Epoch 31/100\n",
      "179/179 [==============================] - 1s 3ms/step - loss: 0.6102 - accuracy: 0.7823 - val_loss: 0.6992 - val_accuracy: 0.6176\n",
      "Epoch 32/100\n",
      "179/179 [==============================] - 1s 3ms/step - loss: 0.6083 - accuracy: 0.7821 - val_loss: 0.7016 - val_accuracy: 0.6187\n",
      "Epoch 33/100\n",
      "179/179 [==============================] - 1s 3ms/step - loss: 0.6068 - accuracy: 0.7854 - val_loss: 0.7019 - val_accuracy: 0.6171\n",
      "Epoch 34/100\n",
      "179/179 [==============================] - 1s 3ms/step - loss: 0.6051 - accuracy: 0.7882 - val_loss: 0.6974 - val_accuracy: 0.6276\n",
      "Epoch 35/100\n",
      "179/179 [==============================] - 1s 3ms/step - loss: 0.6043 - accuracy: 0.7930 - val_loss: 0.6960 - val_accuracy: 0.6292\n",
      "Epoch 36/100\n",
      "179/179 [==============================] - 1s 3ms/step - loss: 0.6027 - accuracy: 0.7989 - val_loss: 0.6989 - val_accuracy: 0.6229\n",
      "Epoch 37/100\n",
      "179/179 [==============================] - 1s 3ms/step - loss: 0.6022 - accuracy: 0.7984 - val_loss: 0.6983 - val_accuracy: 0.6203\n",
      "Epoch 38/100\n",
      "179/179 [==============================] - 1s 3ms/step - loss: 0.5991 - accuracy: 0.8061 - val_loss: 0.7019 - val_accuracy: 0.6234\n",
      "Epoch 39/100\n",
      "179/179 [==============================] - 1s 3ms/step - loss: 0.5982 - accuracy: 0.8068 - val_loss: 0.6984 - val_accuracy: 0.6276\n",
      "Epoch 40/100\n",
      "179/179 [==============================] - 1s 3ms/step - loss: 0.5979 - accuracy: 0.8071 - val_loss: 0.7006 - val_accuracy: 0.6229\n",
      "Epoch 41/100\n",
      "179/179 [==============================] - 1s 3ms/step - loss: 0.5959 - accuracy: 0.8124 - val_loss: 0.6970 - val_accuracy: 0.6271\n",
      "Epoch 42/100\n",
      "179/179 [==============================] - 1s 3ms/step - loss: 0.5956 - accuracy: 0.8136 - val_loss: 0.7022 - val_accuracy: 0.6234\n",
      "Epoch 43/100\n",
      "179/179 [==============================] - 1s 3ms/step - loss: 0.5957 - accuracy: 0.8129 - val_loss: 0.6978 - val_accuracy: 0.6355\n",
      "Epoch 44/100\n",
      "179/179 [==============================] - 1s 3ms/step - loss: 0.5931 - accuracy: 0.8208 - val_loss: 0.6960 - val_accuracy: 0.6329\n",
      "Epoch 45/100\n",
      "179/179 [==============================] - 1s 3ms/step - loss: 0.5928 - accuracy: 0.8212 - val_loss: 0.6938 - val_accuracy: 0.6308\n",
      "Epoch 46/100\n",
      "179/179 [==============================] - 1s 3ms/step - loss: 0.5916 - accuracy: 0.8220 - val_loss: 0.7028 - val_accuracy: 0.6176\n",
      "Epoch 47/100\n",
      "179/179 [==============================] - 1s 3ms/step - loss: 0.5908 - accuracy: 0.8266 - val_loss: 0.7036 - val_accuracy: 0.6192\n",
      "Epoch 48/100\n",
      "179/179 [==============================] - 1s 3ms/step - loss: 0.5896 - accuracy: 0.8262 - val_loss: 0.7067 - val_accuracy: 0.6145\n",
      "Epoch 49/100\n",
      "179/179 [==============================] - 1s 3ms/step - loss: 0.5884 - accuracy: 0.8332 - val_loss: 0.7010 - val_accuracy: 0.6197\n",
      "Epoch 50/100\n",
      "179/179 [==============================] - 1s 3ms/step - loss: 0.5878 - accuracy: 0.8294 - val_loss: 0.7021 - val_accuracy: 0.6255\n",
      "Epoch 51/100\n",
      "179/179 [==============================] - 1s 3ms/step - loss: 0.5885 - accuracy: 0.8287 - val_loss: 0.6992 - val_accuracy: 0.6218\n",
      "Epoch 52/100\n",
      "179/179 [==============================] - 1s 3ms/step - loss: 0.5871 - accuracy: 0.8343 - val_loss: 0.7030 - val_accuracy: 0.6255\n",
      "Epoch 53/100\n",
      "179/179 [==============================] - 1s 3ms/step - loss: 0.5847 - accuracy: 0.8389 - val_loss: 0.7010 - val_accuracy: 0.6271\n",
      "Epoch 54/100\n",
      "179/179 [==============================] - 1s 3ms/step - loss: 0.5844 - accuracy: 0.8399 - val_loss: 0.7076 - val_accuracy: 0.6124\n",
      "Epoch 55/100\n",
      "179/179 [==============================] - 1s 3ms/step - loss: 0.5830 - accuracy: 0.8434 - val_loss: 0.7075 - val_accuracy: 0.6113\n",
      "Epoch 56/100\n",
      "179/179 [==============================] - 1s 3ms/step - loss: 0.5825 - accuracy: 0.8450 - val_loss: 0.7029 - val_accuracy: 0.6187\n",
      "Epoch 57/100\n",
      "179/179 [==============================] - 1s 3ms/step - loss: 0.5805 - accuracy: 0.8485 - val_loss: 0.6994 - val_accuracy: 0.6203\n",
      "Epoch 58/100\n",
      "179/179 [==============================] - 1s 3ms/step - loss: 0.5809 - accuracy: 0.8488 - val_loss: 0.7033 - val_accuracy: 0.6239\n",
      "Epoch 59/100\n",
      "179/179 [==============================] - 1s 3ms/step - loss: 0.5802 - accuracy: 0.8490 - val_loss: 0.7053 - val_accuracy: 0.6150\n",
      "Epoch 60/100\n",
      "179/179 [==============================] - 1s 3ms/step - loss: 0.5789 - accuracy: 0.8511 - val_loss: 0.7011 - val_accuracy: 0.6261\n",
      "Epoch 61/100\n",
      "179/179 [==============================] - 1s 3ms/step - loss: 0.5800 - accuracy: 0.8488 - val_loss: 0.7059 - val_accuracy: 0.6192\n",
      "Epoch 62/100\n",
      "179/179 [==============================] - 1s 3ms/step - loss: 0.5788 - accuracy: 0.8502 - val_loss: 0.7034 - val_accuracy: 0.6239\n",
      "Epoch 63/100\n",
      "179/179 [==============================] - 1s 3ms/step - loss: 0.5778 - accuracy: 0.8534 - val_loss: 0.7036 - val_accuracy: 0.6182\n",
      "Epoch 64/100\n",
      "179/179 [==============================] - 1s 3ms/step - loss: 0.5762 - accuracy: 0.8553 - val_loss: 0.7054 - val_accuracy: 0.6166\n",
      "Epoch 65/100\n",
      "179/179 [==============================] - 1s 3ms/step - loss: 0.5744 - accuracy: 0.8606 - val_loss: 0.7028 - val_accuracy: 0.6208\n",
      "Epoch 66/100\n",
      "179/179 [==============================] - 1s 3ms/step - loss: 0.5737 - accuracy: 0.8632 - val_loss: 0.7060 - val_accuracy: 0.6197\n",
      "Epoch 67/100\n",
      "179/179 [==============================] - 1s 3ms/step - loss: 0.5733 - accuracy: 0.8639 - val_loss: 0.6987 - val_accuracy: 0.6308\n",
      "Epoch 68/100\n",
      "179/179 [==============================] - 1s 3ms/step - loss: 0.5730 - accuracy: 0.8637 - val_loss: 0.7035 - val_accuracy: 0.6187\n",
      "Epoch 69/100\n",
      "179/179 [==============================] - 1s 3ms/step - loss: 0.5727 - accuracy: 0.8607 - val_loss: 0.7076 - val_accuracy: 0.6192\n",
      "Epoch 70/100\n",
      "179/179 [==============================] - 1s 3ms/step - loss: 0.5724 - accuracy: 0.8630 - val_loss: 0.7023 - val_accuracy: 0.6287\n",
      "Epoch 71/100\n",
      "179/179 [==============================] - 1s 3ms/step - loss: 0.5715 - accuracy: 0.8648 - val_loss: 0.7001 - val_accuracy: 0.6376\n",
      "Epoch 72/100\n",
      "179/179 [==============================] - 1s 3ms/step - loss: 0.5703 - accuracy: 0.8679 - val_loss: 0.7042 - val_accuracy: 0.6282\n",
      "Epoch 73/100\n",
      "179/179 [==============================] - 1s 3ms/step - loss: 0.5692 - accuracy: 0.8685 - val_loss: 0.7000 - val_accuracy: 0.6308\n",
      "Epoch 74/100\n",
      "179/179 [==============================] - 1s 3ms/step - loss: 0.5691 - accuracy: 0.8704 - val_loss: 0.7039 - val_accuracy: 0.6229\n",
      "Epoch 75/100\n",
      "179/179 [==============================] - 1s 3ms/step - loss: 0.5687 - accuracy: 0.8721 - val_loss: 0.7028 - val_accuracy: 0.6255\n",
      "Epoch 76/100\n",
      "179/179 [==============================] - 1s 3ms/step - loss: 0.5668 - accuracy: 0.8758 - val_loss: 0.7022 - val_accuracy: 0.6297\n",
      "Epoch 77/100\n",
      "179/179 [==============================] - 1s 3ms/step - loss: 0.5670 - accuracy: 0.8755 - val_loss: 0.7001 - val_accuracy: 0.6271\n",
      "Epoch 78/100\n",
      "179/179 [==============================] - 1s 3ms/step - loss: 0.5654 - accuracy: 0.8798 - val_loss: 0.7023 - val_accuracy: 0.6250\n",
      "Epoch 79/100\n",
      "179/179 [==============================] - 1s 3ms/step - loss: 0.5672 - accuracy: 0.8772 - val_loss: 0.7028 - val_accuracy: 0.6224\n",
      "Epoch 80/100\n",
      "179/179 [==============================] - 1s 3ms/step - loss: 0.5644 - accuracy: 0.8833 - val_loss: 0.6983 - val_accuracy: 0.6261\n",
      "Epoch 81/100\n",
      "179/179 [==============================] - 1s 3ms/step - loss: 0.5660 - accuracy: 0.8749 - val_loss: 0.7078 - val_accuracy: 0.6082\n",
      "Epoch 82/100\n",
      "179/179 [==============================] - 1s 3ms/step - loss: 0.5646 - accuracy: 0.8807 - val_loss: 0.7048 - val_accuracy: 0.6171\n",
      "Epoch 83/100\n",
      "179/179 [==============================] - 1s 3ms/step - loss: 0.5619 - accuracy: 0.8875 - val_loss: 0.7046 - val_accuracy: 0.6213\n",
      "Epoch 84/100\n",
      "179/179 [==============================] - 1s 3ms/step - loss: 0.5620 - accuracy: 0.8860 - val_loss: 0.7061 - val_accuracy: 0.6197\n",
      "Epoch 85/100\n",
      "179/179 [==============================] - 1s 3ms/step - loss: 0.5616 - accuracy: 0.8867 - val_loss: 0.7060 - val_accuracy: 0.6182\n",
      "Epoch 86/100\n",
      "179/179 [==============================] - 1s 3ms/step - loss: 0.5605 - accuracy: 0.8879 - val_loss: 0.7137 - val_accuracy: 0.6092\n",
      "Epoch 87/100\n",
      "179/179 [==============================] - 1s 3ms/step - loss: 0.5609 - accuracy: 0.8893 - val_loss: 0.7072 - val_accuracy: 0.6208\n",
      "Epoch 88/100\n",
      "179/179 [==============================] - 1s 3ms/step - loss: 0.5609 - accuracy: 0.8881 - val_loss: 0.7088 - val_accuracy: 0.6155\n",
      "Epoch 89/100\n",
      "179/179 [==============================] - 1s 3ms/step - loss: 0.5606 - accuracy: 0.8889 - val_loss: 0.7089 - val_accuracy: 0.6134\n",
      "Epoch 90/100\n",
      "179/179 [==============================] - 1s 3ms/step - loss: 0.5599 - accuracy: 0.8889 - val_loss: 0.7098 - val_accuracy: 0.6134\n",
      "Epoch 91/100\n",
      "179/179 [==============================] - 1s 3ms/step - loss: 0.5596 - accuracy: 0.8893 - val_loss: 0.7059 - val_accuracy: 0.6261\n",
      "Epoch 92/100\n",
      "179/179 [==============================] - 1s 3ms/step - loss: 0.5583 - accuracy: 0.8930 - val_loss: 0.7081 - val_accuracy: 0.6197\n",
      "Epoch 93/100\n",
      "179/179 [==============================] - 1s 3ms/step - loss: 0.5578 - accuracy: 0.8953 - val_loss: 0.7116 - val_accuracy: 0.6197\n",
      "Epoch 94/100\n",
      "179/179 [==============================] - 1s 3ms/step - loss: 0.5582 - accuracy: 0.8949 - val_loss: 0.7148 - val_accuracy: 0.6119\n",
      "Epoch 95/100\n",
      "179/179 [==============================] - 1s 3ms/step - loss: 0.5593 - accuracy: 0.8898 - val_loss: 0.7066 - val_accuracy: 0.6129\n",
      "Epoch 96/100\n",
      "179/179 [==============================] - 1s 3ms/step - loss: 0.5579 - accuracy: 0.8937 - val_loss: 0.7087 - val_accuracy: 0.6166\n",
      "Epoch 97/100\n",
      "179/179 [==============================] - 1s 3ms/step - loss: 0.5569 - accuracy: 0.8944 - val_loss: 0.7112 - val_accuracy: 0.6087\n",
      "Epoch 98/100\n",
      "179/179 [==============================] - 1s 3ms/step - loss: 0.5595 - accuracy: 0.8891 - val_loss: 0.7147 - val_accuracy: 0.6098\n",
      "Epoch 99/100\n",
      "179/179 [==============================] - 1s 3ms/step - loss: 0.5578 - accuracy: 0.8930 - val_loss: 0.7112 - val_accuracy: 0.6134\n",
      "Epoch 100/100\n",
      "179/179 [==============================] - 1s 3ms/step - loss: 0.5557 - accuracy: 0.8988 - val_loss: 0.7063 - val_accuracy: 0.6192\n"
     ]
    }
   ],
   "source": [
    "history = model.fit(tr_x, \n",
    "                    tr_y, \n",
    "                    epochs=100, \n",
    "                    class_weight=class_weights,\n",
    "                    validation_data=(va_x, va_y), verbose=1)"
   ]
  },
  {
   "cell_type": "code",
   "execution_count": 36,
   "metadata": {},
   "outputs": [
    {
     "name": "stdout",
     "output_type": "stream",
     "text": [
      "WARNING:tensorflow:From <ipython-input-36-4210b1eb64ca>:1: Sequential.predict_classes (from tensorflow.python.keras.engine.sequential) is deprecated and will be removed after 2021-01-01.\n",
      "Instructions for updating:\n",
      "Please use instead:* `np.argmax(model.predict(x), axis=-1)`,   if your model does multi-class classification   (e.g. if it uses a `softmax` last-layer activation).* `(model.predict(x) > 0.5).astype(\"int32\")`,   if your model does binary classification   (e.g. if it uses a `sigmoid` last-layer activation).\n"
     ]
    }
   ],
   "source": [
    "test_preds = model.predict_classes(test_vector)"
   ]
  },
  {
   "cell_type": "code",
   "execution_count": 39,
   "metadata": {},
   "outputs": [],
   "source": [
    "test_preds_df = pd.DataFrame(test_preds)"
   ]
  },
  {
   "cell_type": "code",
   "execution_count": 52,
   "metadata": {},
   "outputs": [
    {
     "data": {
      "text/plain": [
       "0    2037\n",
       "1    1226\n",
       "Name: Values, dtype: int64"
      ]
     },
     "execution_count": 52,
     "metadata": {},
     "output_type": "execute_result"
    }
   ],
   "source": [
    "test_preds_df.columns = ['Values']\n",
    "test_preds_df['Values'].value_counts()"
   ]
  },
  {
   "cell_type": "code",
   "execution_count": 60,
   "metadata": {},
   "outputs": [],
   "source": [
    "#test_preds_df"
   ]
  },
  {
   "cell_type": "code",
   "execution_count": 57,
   "metadata": {},
   "outputs": [],
   "source": [
    "df_test['target']=test_preds_df['Values']\n",
    "df_save = df_test[['id', 'target']]\n",
    "df_save.to_csv('result.csv',index=None)"
   ]
  },
  {
   "cell_type": "markdown",
   "metadata": {},
   "source": [
    "## Zero shot classifier"
   ]
  },
  {
   "cell_type": "code",
   "execution_count": null,
   "metadata": {},
   "outputs": [],
   "source": []
  },
  {
   "cell_type": "code",
   "execution_count": null,
   "metadata": {},
   "outputs": [],
   "source": []
  }
 ],
 "metadata": {
  "kernelspec": {
   "display_name": "conda_python3",
   "language": "python",
   "name": "conda_python3"
  },
  "language_info": {
   "codemirror_mode": {
    "name": "ipython",
    "version": 3
   },
   "file_extension": ".py",
   "mimetype": "text/x-python",
   "name": "python",
   "nbconvert_exporter": "python",
   "pygments_lexer": "ipython3",
   "version": "3.6.10"
  }
 },
 "nbformat": 4,
 "nbformat_minor": 4
}
